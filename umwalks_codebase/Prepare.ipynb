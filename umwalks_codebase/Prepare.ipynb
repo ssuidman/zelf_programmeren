{
 "cells": [
  {
   "cell_type": "code",
   "execution_count": 1,
   "id": "infectious-pearl",
   "metadata": {},
   "outputs": [],
   "source": [
    "import pandas as pd\n",
    "import numpy as np\n",
    "\n",
    "# Import Participants\n",
    "df = pd.read_csv(\"typeform/responses.csv\",\n",
    "                 sep=\";\", \n",
    "                 index_col=False,\n",
    "                 names=['name', 'status', 'email','phone','faculty','location','consent','duplicate'],\n",
    "                 converters={'phone': str})\n",
    "\n",
    "# Drop columns\n",
    "df = df.drop(['consent', 'duplicate'], axis=1)\n",
    "\n",
    "# Drop single entries\n",
    "#df = df[~df.email.str.contains(\"mail@student.maastrichtuniversity.nl\")]\n",
    "\n",
    "# Select Group\n",
    "students = df.loc[df['status'] == \"Student\"]\n",
    "staff = df.loc[df['status'] == \"Staff\"]\n",
    "phds = df.loc[df['status'] == \"PhD Student\"]"
   ]
  },
  {
   "cell_type": "code",
   "execution_count": 3,
   "id": "progressive-legislature",
   "metadata": {},
   "outputs": [],
   "source": [
    "# Randomize function\n",
    "np.random.seed(5)"
   ]
  },
  {
   "cell_type": "code",
   "execution_count": null,
   "id": "e3032a65",
   "metadata": {},
   "outputs": [],
   "source": []
  },
  {
   "cell_type": "code",
   "execution_count": 4,
   "id": "focused-pricing",
   "metadata": {},
   "outputs": [],
   "source": [
    "# Load all past matches to check for overlaps later\n",
    "\n",
    "mar01 = pd.read_csv(\"history/walks_mar01.csv\", usecols=[\"walk_id\"])\n",
    "mar07 = pd.read_csv(\"history/walks_mar07.csv\", usecols=[\"walk_id\"])\n",
    "mar14 = pd.read_csv(\"history/walks_mar14.csv\", usecols=[\"walk_id\"])\n",
    "\n",
    "# Merge all in history\n",
    "history =  pd.concat([mar01, mar07, mar14], ignore_index=False, axis=0)"
   ]
  },
  {
   "cell_type": "code",
   "execution_count": 5,
   "id": "gorgeous-literature",
   "metadata": {},
   "outputs": [],
   "source": [
    "def createtable(name):\n",
    "    # Randomize list\n",
    "    df = name.sample(frac=1).reset_index()\n",
    "    # Create pairs\n",
    "    new_index = df.index.to_numpy().reshape(df.shape[0]//2, 2)[:, ::-1].reshape(-1,)\n",
    "    out = pd.concat([df,df.reindex(new_index).add_suffix('_peer').reset_index(drop=True)], axis=1)\n",
    "    out = out.drop(['index', 'index_peer'], axis=1)\n",
    "    # Unique ID\n",
    "    out['walk_id'] = out[['email','email_peer']].sum(axis=1).map(hash).abs()\n",
    "    return out"
   ]
  },
  {
   "cell_type": "code",
   "execution_count": 7,
   "id": "rental-deficit",
   "metadata": {},
   "outputs": [],
   "source": [
    "students = createtable(students)\n",
    "phds = createtable(phds)\n",
    "staff = createtable(staff)"
   ]
  },
  {
   "cell_type": "code",
   "execution_count": null,
   "id": "58b824c2",
   "metadata": {},
   "outputs": [],
   "source": []
  },
  {
   "cell_type": "code",
   "execution_count": 13,
   "id": "japanese-diabetes",
   "metadata": {},
   "outputs": [],
   "source": [
    "# Concatenate dataframes\n",
    "walks = pd.concat([students, staff, phds], ignore_index=False, axis=0)"
   ]
  },
  {
   "cell_type": "code",
   "execution_count": null,
   "id": "f1f0b540",
   "metadata": {},
   "outputs": [],
   "source": []
  },
  {
   "cell_type": "code",
   "execution_count": 15,
   "id": "dental-hayes",
   "metadata": {},
   "outputs": [
    {
     "data": {
      "text/plain": [
       "set()"
      ]
     },
     "execution_count": 15,
     "metadata": {},
     "output_type": "execute_result"
    }
   ],
   "source": [
    "# Find duplicates\n",
    "set(walks['walk_id']).intersection(set(history['walk_id']))"
   ]
  },
  {
   "cell_type": "code",
   "execution_count": 16,
   "id": "weighted-painting",
   "metadata": {},
   "outputs": [
    {
     "data": {
      "text/plain": [
       "2"
      ]
     },
     "execution_count": 16,
     "metadata": {},
     "output_type": "execute_result"
    }
   ],
   "source": [
    "len(walks)"
   ]
  },
  {
   "cell_type": "code",
   "execution_count": 9,
   "id": "royal-civilian",
   "metadata": {},
   "outputs": [],
   "source": [
    "walks.to_csv('walks.csv', index=False)"
   ]
  }
 ],
 "metadata": {
  "kernelspec": {
   "display_name": "Python 3",
   "language": "python",
   "name": "python3"
  },
  "language_info": {
   "codemirror_mode": {
    "name": "ipython",
    "version": 3
   },
   "file_extension": ".py",
   "mimetype": "text/x-python",
   "name": "python",
   "nbconvert_exporter": "python",
   "pygments_lexer": "ipython3",
   "version": "3.7.10"
  }
 },
 "nbformat": 4,
 "nbformat_minor": 5
}

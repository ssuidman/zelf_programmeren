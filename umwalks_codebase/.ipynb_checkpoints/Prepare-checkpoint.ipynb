{
 "cells": [
  {
   "cell_type": "code",
   "execution_count": 1,
   "id": "infectious-pearl",
   "metadata": {},
   "outputs": [],
   "source": [
    "import pandas as pd\n",
    "import numpy as np\n",
    "\n",
    "# Import Participants\n",
    "df = pd.read_csv(\"typeform/responses.csv\",\n",
    "                 sep=\";\", \n",
    "                 index_col=False,\n",
    "                 names=['name', 'status', 'email','phone','faculty','location','consent','duplicate'],\n",
    "                 converters={'phone': str})\n",
    "\n",
    "# Drop columns\n",
    "df = df.drop(['consent', 'duplicate'], axis=1)\n",
    "\n",
    "# Drop single entries\n",
    "#df = df[~df.email.str.contains(\"mail@student.maastrichtuniversity.nl\")]\n",
    "\n",
    "# Select Group\n",
    "students = df.loc[df['status'] == \"Student\"]\n",
    "staff = df.loc[df['status'] == \"Staff\"]\n",
    "phds = df.loc[df['status'] == \"PhD Student\"]"
   ]
  },
  {
   "cell_type": "code",
   "execution_count": 3,
   "id": "progressive-legislature",
   "metadata": {},
   "outputs": [],
   "source": [
    "# Randomize function\n",
    "np.random.seed(5)"
   ]
  },
  {
   "cell_type": "code",
   "execution_count": null,
   "id": "a688f355",
   "metadata": {},
   "outputs": [],
   "source": []
  },
  {
   "cell_type": "code",
   "execution_count": 4,
   "id": "focused-pricing",
   "metadata": {},
   "outputs": [],
   "source": [
    "# Load all past matches to check for overlaps later\n",
    "\n",
    "mar01 = pd.read_csv(\"history/walks_mar01.csv\", usecols=[\"walk_id\"])\n",
    "mar07 = pd.read_csv(\"history/walks_mar07.csv\", usecols=[\"walk_id\"])\n",
    "mar14 = pd.read_csv(\"history/walks_mar14.csv\", usecols=[\"walk_id\"])\n",
    "\n",
    "# Merge all in history\n",
    "history =  pd.concat([mar01, mar07, mar14], ignore_index=False, axis=0)"
   ]
  },
  {
   "cell_type": "code",
   "execution_count": 5,
   "id": "gorgeous-literature",
   "metadata": {},
   "outputs": [],
   "source": [
    "def createtable(name):\n",
    "    # Randomize list\n",
    "    df = name.sample(frac=1).reset_index()\n",
    "    # Create pairs\n",
    "    new_index = df.index.to_numpy().reshape(df.shape[0]//2, 2)[:, ::-1].reshape(-1,)\n",
    "    out = pd.concat([df,df.reindex(new_index).add_suffix('_peer').reset_index(drop=True)], axis=1)\n",
    "    out = out.drop(['index', 'index_peer'], axis=1)\n",
    "    # Unique ID\n",
    "    out['walk_id'] = out[['email','email_peer']].sum(axis=1).map(hash).abs()\n",
    "    return out"
   ]
  },
  {
   "cell_type": "code",
   "execution_count": 7,
   "id": "rental-deficit",
   "metadata": {},
   "outputs": [],
   "source": [
    "students = createtable(students)\n",
    "phds = createtable(phds)\n",
    "staff = createtable(staff)"
   ]
  },
  {
   "cell_type": "code",
   "execution_count": 10,
   "id": "1e543b1b",
   "metadata": {},
   "outputs": [
    {
     "data": {
      "text/html": [
       "<div>\n",
       "<style scoped>\n",
       "    .dataframe tbody tr th:only-of-type {\n",
       "        vertical-align: middle;\n",
       "    }\n",
       "\n",
       "    .dataframe tbody tr th {\n",
       "        vertical-align: top;\n",
       "    }\n",
       "\n",
       "    .dataframe thead th {\n",
       "        text-align: right;\n",
       "    }\n",
       "</style>\n",
       "<table border=\"1\" class=\"dataframe\">\n",
       "  <thead>\n",
       "    <tr style=\"text-align: right;\">\n",
       "      <th></th>\n",
       "      <th>name</th>\n",
       "      <th>status</th>\n",
       "      <th>email</th>\n",
       "      <th>phone</th>\n",
       "      <th>faculty</th>\n",
       "      <th>location</th>\n",
       "      <th>name_peer</th>\n",
       "      <th>status_peer</th>\n",
       "      <th>email_peer</th>\n",
       "      <th>phone_peer</th>\n",
       "      <th>...</th>\n",
       "      <th>phone_peer</th>\n",
       "      <th>faculty_peer</th>\n",
       "      <th>location_peer</th>\n",
       "      <th>name_peer_peer</th>\n",
       "      <th>status_peer_peer</th>\n",
       "      <th>email_peer_peer</th>\n",
       "      <th>phone_peer_peer</th>\n",
       "      <th>faculty_peer_peer</th>\n",
       "      <th>location_peer_peer</th>\n",
       "      <th>walk_id_peer</th>\n",
       "    </tr>\n",
       "  </thead>\n",
       "  <tbody>\n",
       "  </tbody>\n",
       "</table>\n",
       "<p>0 rows × 26 columns</p>\n",
       "</div>"
      ],
      "text/plain": [
       "Empty DataFrame\n",
       "Columns: [name, status, email, phone, faculty, location, name_peer, status_peer, email_peer, phone_peer, faculty_peer, location_peer, walk_id, name_peer, status_peer, email_peer, phone_peer, faculty_peer, location_peer, name_peer_peer, status_peer_peer, email_peer_peer, phone_peer_peer, faculty_peer_peer, location_peer_peer, walk_id_peer]\n",
       "Index: []\n",
       "\n",
       "[0 rows x 26 columns]"
      ]
     },
     "execution_count": 10,
     "metadata": {},
     "output_type": "execute_result"
    }
   ],
   "source": []
  },
  {
   "cell_type": "code",
   "execution_count": 6,
   "id": "japanese-diabetes",
   "metadata": {},
   "outputs": [],
   "source": [
    "# Concatenate dataframes\n",
    "walks = pd.concat([students, staff, phds], ignore_index=False, axis=0)"
   ]
  },
  {
   "cell_type": "code",
   "execution_count": 7,
   "id": "dental-hayes",
   "metadata": {},
   "outputs": [
    {
     "data": {
      "text/plain": [
       "set()"
      ]
     },
     "execution_count": 7,
     "metadata": {},
     "output_type": "execute_result"
    }
   ],
   "source": [
    "# Find duplicates\n",
    "set(walks['walk_id']).intersection(set(history['walk_id']))"
   ]
  },
  {
   "cell_type": "code",
   "execution_count": 8,
   "id": "weighted-painting",
   "metadata": {},
   "outputs": [
    {
     "data": {
      "text/plain": [
       "388"
      ]
     },
     "execution_count": 8,
     "metadata": {},
     "output_type": "execute_result"
    }
   ],
   "source": [
    "len(walks)"
   ]
  },
  {
   "cell_type": "code",
   "execution_count": 9,
   "id": "royal-civilian",
   "metadata": {},
   "outputs": [],
   "source": [
    "walks.to_csv('walks.csv', index=False)"
   ]
  }
 ],
 "metadata": {
  "kernelspec": {
   "display_name": "Python 3",
   "language": "python",
   "name": "python3"
  },
  "language_info": {
   "codemirror_mode": {
    "name": "ipython",
    "version": 3
   },
   "file_extension": ".py",
   "mimetype": "text/x-python",
   "name": "python",
   "nbconvert_exporter": "python",
   "pygments_lexer": "ipython3",
   "version": "3.7.10"
  }
 },
 "nbformat": 4,
 "nbformat_minor": 5
}
